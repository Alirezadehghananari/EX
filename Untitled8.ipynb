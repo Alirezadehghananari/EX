{
 "cells": [
  {
   "cell_type": "code",
   "execution_count": 3,
   "id": "8bd4eb31-80ef-42f2-8a66-5ca2384337e1",
   "metadata": {},
   "outputs": [
    {
     "name": "stdout",
     "output_type": "stream",
     "text": [
      "['!@#$', '0101202', 'alireza', 'dehghan', 'false', 'true']\n"
     ]
    }
   ],
   "source": [
    "list =[\"alireza\",\"dehghan\",\"!@#$\",\"0101202\",\"true\",\"false\"]\n",
    "print(sorted(list))\n",
    "#کمک از پسرعمه"
   ]
  },
  {
   "cell_type": "code",
   "execution_count": 7,
   "id": "b471f459-9150-4aa0-82f5-05dad7c6b9c9",
   "metadata": {},
   "outputs": [
    {
     "name": "stdout",
     "output_type": "stream",
     "text": [
      "[] [] ['10']\n",
      "[] [] ['10', '@']\n",
      "[] ['a', 'b', 'c', 'd'] ['10', '@', '100']\n",
      "[] ['a', 'b', 'c', 'd'] ['10', '@', '100', '#']\n"
     ]
    }
   ],
   "source": [
    "list=[\"10\",\"@\",\"a\",\"b\",\"c\",\"d\",\"100\",\"#\",\"ali\"]\n",
    "a=[]\n",
    "b=[]\n",
    "c=[]\n",
    "for i in list:\n",
    "    if i.isupper():\n",
    "        a.append(i)\n",
    "    elif i.islower():\n",
    "        b.append(i)\n",
    "    else:\n",
    "        c.append(i)\n",
    "        print(a,b,c)\n",
    "        #پسرعمه"
   ]
  },
  {
   "cell_type": "code",
   "execution_count": 8,
   "id": "a30ad752-ff08-4b2b-90e0-fbe62fb8d13b",
   "metadata": {},
   "outputs": [
    {
     "name": "stdout",
     "output_type": "stream",
     "text": [
      "[100, 1000, 10000]\n"
     ]
    }
   ],
   "source": [
    "list=[100,1000,10000]\n",
    "resault=sum(list)\n",
    "print(list)"
   ]
  },
  {
   "cell_type": "code",
   "execution_count": 10,
   "id": "7bc92a98-a190-4c64-b887-2276929f3a78",
   "metadata": {},
   "outputs": [
    {
     "name": "stdout",
     "output_type": "stream",
     "text": [
      "[-50, -50, -50, -50, -50]\n"
     ]
    }
   ],
   "source": [
    "a=[10,20,30,40,50]\n",
    "b=[60,70,80,90,100]\n",
    "c=[]\n",
    "for z in range(len(a)):\n",
    "    c.append(a[z]- b[z])\n",
    "print(c)"
   ]
  },
  {
   "cell_type": "code",
   "execution_count": 18,
   "id": "6a1ba4a8-e1f2-42f2-962e-8269c1d3e6b5",
   "metadata": {},
   "outputs": [
    {
     "name": "stdout",
     "output_type": "stream",
     "text": [
      "['whats', 'your', 'name']\n"
     ]
    }
   ],
   "source": [
    "a=[\"wha\",\"yo\",\"na\"]\n",
    "b=[\"ts\",\"ur\",\"me\",]\n",
    "c=[]\n",
    "d=len(a) if len(a)>=len(b)else len(b)\n",
    "for n in range(d):\n",
    "    c.append(a[n]+b[n])\n",
    "print(c)"
   ]
  },
  {
   "cell_type": "code",
   "execution_count": null,
   "id": "5f5c8ce5-3d4e-401b-9cac-9d4d4d43deb6",
   "metadata": {},
   "outputs": [],
   "source": []
  }
 ],
 "metadata": {
  "kernelspec": {
   "display_name": "Python 3 (ipykernel)",
   "language": "python",
   "name": "python3"
  },
  "language_info": {
   "codemirror_mode": {
    "name": "ipython",
    "version": 3
   },
   "file_extension": ".py",
   "mimetype": "text/x-python",
   "name": "python",
   "nbconvert_exporter": "python",
   "pygments_lexer": "ipython3",
   "version": "3.12.0"
  }
 },
 "nbformat": 4,
 "nbformat_minor": 5
}
